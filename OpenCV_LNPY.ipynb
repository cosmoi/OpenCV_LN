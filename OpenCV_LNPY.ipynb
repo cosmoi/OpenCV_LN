{
 "cells": [
  {
   "cell_type": "code",
   "execution_count": 12,
   "id": "e0a9a957",
   "metadata": {},
   "outputs": [],
   "source": [
    "# 目标跟踪\n",
    "\n",
    "import cv2\n",
    "\n",
    "\n",
    "# opencv4.7版本中自带了8个目标跟踪算法的实现\n",
    "# BOOSTING：速度慢且不是很精确\n",
    "# MIL:比BOOSTING精确一点\n",
    "# KCF：速度比前两者更快，但一样不能很好地处理遮挡问题\n",
    "# CSRT：比KCF精确，但速度慢一点\n",
    "# MedianFlow：对于快速移动的目标和外形变化迅速的目标效果不好\n",
    "# TLD：会产生较多的false-positives\n",
    "# MOSSE：速度算法非常快，但是准确率比不上KCF和CSRT，在一些追求算法速度的场合很适用\n",
    "# GOTURN；Opencv中自带的基于深度学习的算法。运行算法需要提前下载好模型文件。\n",
    "#     \"csrt\":cv2.legacy.TrackerCSRT_create\n",
    "#     \"kcf\":cv2.legacy.TrackerKCF_create\n",
    "#     \"boosting\":cv2.legacy.TrackerBoosting_create\n",
    "#     \"mil\":cv2.legacy.TrackerMIL_create\n",
    "#     \"tld\":cv2.legacy.TrackerTLD_create\n",
    "#     \"medianflow\":cv2.legacy.TrackerMedianFlow_create\n",
    "#     \"mosse\":cv2.legacy.TrackerMOSSE_create\n",
    "\n",
    "tracker = cv2.legacy.TrackerKCF_create()\n",
    "cap = cv2.VideoCapture(\"C:\\\\Users\\\\cosmoi\\\\Desktop\\\\OpenCV_LN\\\\shipcount.mp4\")\n",
    "ret, frame = cap.read()\n",
    "# 前景画一个框，将需要跟踪的目标框起来\n",
    "bbox = cv2.selectROI('Frame', frame, fromCenter=False, showCrosshair=True)\n",
    "tracker.init(frame, bbox)\n",
    "\n",
    "while True:\n",
    "    ret, frame = cap.read()    # 读取每一帧\n",
    "    # 根据每一帧更新tracker\n",
    "    ok, box = tracker.update(frame)\n",
    "\n",
    "    # 根据tracker画框\n",
    "    if ok:\n",
    "        (x, y, w, h) = [int(v) for v in box]\n",
    "        cv2.rectangle(frame, pt1=(x, y), pt2=(x + w, y + h), color=(0, 255, 0), thickness=2)\n",
    "\n",
    "    cv2.namedWindow('Frame', 0)\n",
    "    cv2.imshow(\"Frame\", frame)\n",
    "\n",
    "    if cv2.waitKey(50) == ord(\"q\"):\n",
    "        break\n",
    "\n",
    "cap.release()\n",
    "cv2.destroyAllWindows()"
   ]
  },
  {
   "cell_type": "code",
   "execution_count": null,
   "id": "3930b9ce",
   "metadata": {},
   "outputs": [],
   "source": []
  },
  {
   "cell_type": "code",
   "execution_count": null,
   "id": "26632875",
   "metadata": {},
   "outputs": [],
   "source": []
  }
 ],
 "metadata": {
  "kernelspec": {
   "display_name": "Python 3 (ipykernel)",
   "language": "python",
   "name": "python3"
  },
  "language_info": {
   "codemirror_mode": {
    "name": "ipython",
    "version": 3
   },
   "file_extension": ".py",
   "mimetype": "text/x-python",
   "name": "python",
   "nbconvert_exporter": "python",
   "pygments_lexer": "ipython3",
   "version": "3.9.13"
  }
 },
 "nbformat": 4,
 "nbformat_minor": 5
}
